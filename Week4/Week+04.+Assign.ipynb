{
 "cells": [
  {
   "cell_type": "markdown",
   "metadata": {},
   "source": [
    "# Week 04. k-Nearest Neighbors Classifier\n",
    "\n",
    "과제는 총 3개의 cell과 markdown 하나를 채워주셔야합니다\n",
    "\n",
    "1~3 문제는 영상과 실습자료에 나와있는 것들을 적절히 응용하시면 됩니다\n",
    "\n",
    "마지막 4번의 경우 본인의 생각을 마크다운으로 작성하는 부분입니다\n",
    "\n",
    "주석의 경우 이미지, 테이블 등의 표현이 어려운 관계로 받지 않겠습니다"
   ]
  },
  {
   "cell_type": "markdown",
   "metadata": {},
   "source": [
    "### 실습 00. Load dataset"
   ]
  },
  {
   "cell_type": "markdown",
   "metadata": {},
   "source": [
    "이번 과제에 사용할 dataset은 붓꽃(iris)입니다\n",
    "\n",
    "scikit-learn은 간단한 여러 데이터들을 library를 사용하여 불러오도록 제공합니다\n",
    "\n",
    "불러온 dataset은 다양한 method를 제공합니다\n",
    "\n",
    "load_iris class를 저장하고 아래 method를 사용하여 아래와 같은 data와 target을 만들어주세요\n",
    "\n",
    "* 사용가능한 method \n",
    "\n",
    "\n",
    "\n",
    "1. load_iris.data\n",
    "\n",
    "2. load_iris.feature_names\n",
    "\n",
    "3. load_iris.target\n",
    "\n",
    "4. load_iris.target_names\n",
    "\n",
    "주의) 반드시 method 4개를 사용해야합니다\n",
    "\n",
    "target_names는 setosa, versicolor, virginica가 있습니다\n",
    "\n",
    "target을 불러오면 0,1,2이기 때문에 각 값을 대치시켜야합니다\n",
    "\n",
    "![](https://i.imgur.com/RYcsvh2.png)\n",
    "![](https://i.imgur.com/36KLoiI.png)\n"
   ]
  },
  {
   "cell_type": "code",
   "execution_count": 53,
   "metadata": {},
   "outputs": [
    {
     "data": {
      "text/plain": [
       "' 변수 = load_iris()로 object를 생성합니다 '"
      ]
     },
     "execution_count": 53,
     "metadata": {},
     "output_type": "execute_result"
    }
   ],
   "source": [
    "import pandas as pd\n",
    "import numpy as np\n",
    "import os \n",
    "\n",
    "from sklearn.datasets import load_iris\n",
    "\n",
    "''' 변수 = load_iris()로 object를 생성합니다 '''"
   ]
  },
  {
   "cell_type": "code",
   "execution_count": 54,
   "metadata": {},
   "outputs": [],
   "source": [
    "load_iris = load_iris()"
   ]
  },
  {
   "cell_type": "code",
   "execution_count": 73,
   "metadata": {},
   "outputs": [],
   "source": [
    "data=load_iris.data\n",
    "columns=load_iris.feature_names"
   ]
  },
  {
   "cell_type": "code",
   "execution_count": 55,
   "metadata": {},
   "outputs": [],
   "source": [
    "df=pd.DataFrame(data=load_iris.data, columns=load_iris.feature_names)\n",
    "df['target'] = load_iris.target\n",
    "\n",
    "df['target'] = df['target'].map({0:load_iris.target_names[0], \n",
    "                                 1:load_iris.target_names[1], \n",
    "                                 2:load_iris.target_names[2]})"
   ]
  },
  {
   "cell_type": "code",
   "execution_count": 79,
   "metadata": {},
   "outputs": [
    {
     "data": {
      "text/plain": [
       "(150, 4)"
      ]
     },
     "execution_count": 79,
     "metadata": {},
     "output_type": "execute_result"
    }
   ],
   "source": [
    "data.shape"
   ]
  },
  {
   "cell_type": "code",
   "execution_count": 77,
   "metadata": {},
   "outputs": [
    {
     "data": {
      "text/plain": [
       "(150,)"
      ]
     },
     "execution_count": 77,
     "metadata": {},
     "output_type": "execute_result"
    }
   ],
   "source": [
    "df['target'].shape"
   ]
  },
  {
   "cell_type": "code",
   "execution_count": 56,
   "metadata": {},
   "outputs": [
    {
     "data": {
      "text/plain": [
       "(150, 5)"
      ]
     },
     "execution_count": 56,
     "metadata": {},
     "output_type": "execute_result"
    }
   ],
   "source": [
    "df.shape"
   ]
  },
  {
   "cell_type": "code",
   "execution_count": 57,
   "metadata": {},
   "outputs": [
    {
     "data": {
      "text/html": [
       "<div>\n",
       "<style scoped>\n",
       "    .dataframe tbody tr th:only-of-type {\n",
       "        vertical-align: middle;\n",
       "    }\n",
       "\n",
       "    .dataframe tbody tr th {\n",
       "        vertical-align: top;\n",
       "    }\n",
       "\n",
       "    .dataframe thead th {\n",
       "        text-align: right;\n",
       "    }\n",
       "</style>\n",
       "<table border=\"1\" class=\"dataframe\">\n",
       "  <thead>\n",
       "    <tr style=\"text-align: right;\">\n",
       "      <th></th>\n",
       "      <th>sepal length (cm)</th>\n",
       "      <th>sepal width (cm)</th>\n",
       "      <th>petal length (cm)</th>\n",
       "      <th>petal width (cm)</th>\n",
       "      <th>target</th>\n",
       "    </tr>\n",
       "  </thead>\n",
       "  <tbody>\n",
       "    <tr>\n",
       "      <td>0</td>\n",
       "      <td>5.1</td>\n",
       "      <td>3.5</td>\n",
       "      <td>1.4</td>\n",
       "      <td>0.2</td>\n",
       "      <td>setosa</td>\n",
       "    </tr>\n",
       "    <tr>\n",
       "      <td>1</td>\n",
       "      <td>4.9</td>\n",
       "      <td>3.0</td>\n",
       "      <td>1.4</td>\n",
       "      <td>0.2</td>\n",
       "      <td>setosa</td>\n",
       "    </tr>\n",
       "    <tr>\n",
       "      <td>2</td>\n",
       "      <td>4.7</td>\n",
       "      <td>3.2</td>\n",
       "      <td>1.3</td>\n",
       "      <td>0.2</td>\n",
       "      <td>setosa</td>\n",
       "    </tr>\n",
       "    <tr>\n",
       "      <td>3</td>\n",
       "      <td>4.6</td>\n",
       "      <td>3.1</td>\n",
       "      <td>1.5</td>\n",
       "      <td>0.2</td>\n",
       "      <td>setosa</td>\n",
       "    </tr>\n",
       "    <tr>\n",
       "      <td>4</td>\n",
       "      <td>5.0</td>\n",
       "      <td>3.6</td>\n",
       "      <td>1.4</td>\n",
       "      <td>0.2</td>\n",
       "      <td>setosa</td>\n",
       "    </tr>\n",
       "    <tr>\n",
       "      <td>...</td>\n",
       "      <td>...</td>\n",
       "      <td>...</td>\n",
       "      <td>...</td>\n",
       "      <td>...</td>\n",
       "      <td>...</td>\n",
       "    </tr>\n",
       "    <tr>\n",
       "      <td>145</td>\n",
       "      <td>6.7</td>\n",
       "      <td>3.0</td>\n",
       "      <td>5.2</td>\n",
       "      <td>2.3</td>\n",
       "      <td>virginica</td>\n",
       "    </tr>\n",
       "    <tr>\n",
       "      <td>146</td>\n",
       "      <td>6.3</td>\n",
       "      <td>2.5</td>\n",
       "      <td>5.0</td>\n",
       "      <td>1.9</td>\n",
       "      <td>virginica</td>\n",
       "    </tr>\n",
       "    <tr>\n",
       "      <td>147</td>\n",
       "      <td>6.5</td>\n",
       "      <td>3.0</td>\n",
       "      <td>5.2</td>\n",
       "      <td>2.0</td>\n",
       "      <td>virginica</td>\n",
       "    </tr>\n",
       "    <tr>\n",
       "      <td>148</td>\n",
       "      <td>6.2</td>\n",
       "      <td>3.4</td>\n",
       "      <td>5.4</td>\n",
       "      <td>2.3</td>\n",
       "      <td>virginica</td>\n",
       "    </tr>\n",
       "    <tr>\n",
       "      <td>149</td>\n",
       "      <td>5.9</td>\n",
       "      <td>3.0</td>\n",
       "      <td>5.1</td>\n",
       "      <td>1.8</td>\n",
       "      <td>virginica</td>\n",
       "    </tr>\n",
       "  </tbody>\n",
       "</table>\n",
       "<p>150 rows × 5 columns</p>\n",
       "</div>"
      ],
      "text/plain": [
       "     sepal length (cm)  sepal width (cm)  petal length (cm)  petal width (cm)  \\\n",
       "0                  5.1               3.5                1.4               0.2   \n",
       "1                  4.9               3.0                1.4               0.2   \n",
       "2                  4.7               3.2                1.3               0.2   \n",
       "3                  4.6               3.1                1.5               0.2   \n",
       "4                  5.0               3.6                1.4               0.2   \n",
       "..                 ...               ...                ...               ...   \n",
       "145                6.7               3.0                5.2               2.3   \n",
       "146                6.3               2.5                5.0               1.9   \n",
       "147                6.5               3.0                5.2               2.0   \n",
       "148                6.2               3.4                5.4               2.3   \n",
       "149                5.9               3.0                5.1               1.8   \n",
       "\n",
       "        target  \n",
       "0       setosa  \n",
       "1       setosa  \n",
       "2       setosa  \n",
       "3       setosa  \n",
       "4       setosa  \n",
       "..         ...  \n",
       "145  virginica  \n",
       "146  virginica  \n",
       "147  virginica  \n",
       "148  virginica  \n",
       "149  virginica  \n",
       "\n",
       "[150 rows x 5 columns]"
      ]
     },
     "execution_count": 57,
     "metadata": {},
     "output_type": "execute_result"
    }
   ],
   "source": [
    "df"
   ]
  },
  {
   "cell_type": "markdown",
   "metadata": {},
   "source": [
    "### 실습 01. Pandas & numpy 사용하기"
   ]
  },
  {
   "cell_type": "markdown",
   "metadata": {},
   "source": [
    "데이터들을 불러오고 형태를 확인해주세요\n",
    "\n",
    "DataFrame.shape으로 확인할 수 있습니다\n",
    "\n",
    "이후, **클래스별** 변수의 갯수와 변수 별 평균, 표준편차를 출력해주세요\n",
    "\n",
    "출력 양식은 자유롭게 작성하시되, 반드시 위의 요구사항을 만족하여야합니다"
   ]
  },
  {
   "cell_type": "code",
   "execution_count": 109,
   "metadata": {},
   "outputs": [
    {
     "data": {
      "text/plain": [
       "150"
      ]
     },
     "execution_count": 109,
     "metadata": {},
     "output_type": "execute_result"
    }
   ],
   "source": [
    "target = df['target']\n",
    "len(target)"
   ]
  },
  {
   "cell_type": "code",
   "execution_count": 245,
   "metadata": {},
   "outputs": [
    {
     "name": "stdout",
     "output_type": "stream",
     "text": [
      "50 50 50\n"
     ]
    }
   ],
   "source": [
    "# 변수의개수\n",
    "c_setosa = 0\n",
    "c_versicolor = 0\n",
    "c_virginica = 0\n",
    "\n",
    "for i in range(len(target)):\n",
    "    if target[i]=='setosa':\n",
    "        c_setosa += 1\n",
    "    elif target[i]=='versicolor':\n",
    "        c_versicolor += 1\n",
    "    else:\n",
    "        c_virginica += 1\n",
    "\n",
    "print(c_setosa, c_versicolor, c_virginica)"
   ]
  },
  {
   "cell_type": "code",
   "execution_count": 246,
   "metadata": {},
   "outputs": [
    {
     "name": "stdout",
     "output_type": "stream",
     "text": [
      "[6.587999999999998, 2.9739999999999998, 5.552]\n",
      "[5.936, 2.7700000000000005, 4.26]\n",
      "[6.587999999999998, 2.9739999999999998, 5.552]\n"
     ]
    }
   ],
   "source": [
    "#  # 변수별 평균\n",
    "arr_setosa = []\n",
    "arr_versicolor = []\n",
    "arr_virginica = []\n",
    "\n",
    "for i in range(len(target)):\n",
    "    if target[i]=='setosa':\n",
    "        arr_setosa.append(data[i])\n",
    "    elif target[i]=='versicolor':\n",
    "        arr_versicolor.append(data[i])\n",
    "    else:\n",
    "        arr_virginica.append(data[i])\n",
    "        \n",
    "_setosa = [0,0,0]\n",
    "_versicolor = [0,0,0]\n",
    "_virginica = [0,0,0]\n",
    "\n",
    "for j in range(len(avg_setosa)):\n",
    "    for k in range(len(_setosa)):\n",
    "        _setosa[k]+=avg_setosa[j][k]\n",
    "        _versicolor[k]+=avg_versicolor[j][k]\n",
    "        _virginica[k]+=avg_virginica[j][k]  \n",
    "\n",
    "for l in range(len(_setosa)):\n",
    "    _setosa[l] = _setosa[l]/50\n",
    "    _versicolor[l] = _versicolor[l]/50\n",
    "    _virginica[l] = _virginica[l]/50\n",
    "    \n",
    "print(_virginica)\n",
    "print(_versicolor)\n",
    "print(_virginica)"
   ]
  },
  {
   "cell_type": "code",
   "execution_count": 247,
   "metadata": {},
   "outputs": [
    {
     "name": "stdout",
     "output_type": "stream",
     "text": [
      "[0.12176400000000002, 0.14081600000000002, 0.029555999999999995]\n",
      "[0.261104, 0.09650000000000002, 0.21640000000000004]\n",
      "[0.3962560000000001, 0.10192399999999999, 0.29849600000000004]\n"
     ]
    }
   ],
   "source": [
    "# 변수별 표준편차\n",
    "\n",
    "var_setosa = []\n",
    "var_versicolor = []\n",
    "var_virginica = []\n",
    "\n",
    "for i in range(len(target)):\n",
    "    if target[i]=='setosa':\n",
    "        var_setosa.append(data[i])\n",
    "    elif target[i]=='versicolor':\n",
    "        var_versicolor.append(data[i])\n",
    "    else:\n",
    "        var_virginica.append(data[i])\n",
    "        \n",
    "temp1 = []\n",
    "temp2 = []\n",
    "temp3 = []\n",
    "\n",
    "for j in range(0,50):\n",
    "    temp1.append(var_setosa[j][0])\n",
    "    temp2.append(var_setosa[j][1])\n",
    "    temp3.append(var_setosa[j][2])    \n",
    "_setosa = [np.var(temp1),np.var(temp2),np.var(temp3)]  \n",
    "\n",
    "temp1 = []\n",
    "temp2 = []\n",
    "temp3 = []\n",
    "\n",
    "for j in range(0,50):\n",
    "    temp1.append(var_versicolor[j][0])\n",
    "    temp2.append(var_versicolor[j][1])\n",
    "    temp3.append(var_versicolor[j][2])    \n",
    "_versicolor = [np.var(temp1),np.var(temp2),np.var(temp3)]  \n",
    "\n",
    "temp1 = []\n",
    "temp2 = []\n",
    "temp3 = []\n",
    "\n",
    "for j in range(0,50):\n",
    "    temp1.append(var_virginica[j][0])\n",
    "    temp2.append(var_virginica[j][1])\n",
    "    temp3.append(var_virginica[j][2])    \n",
    "_virginica = [np.var(temp1),np.var(temp2),np.var(temp3)]  \n",
    "\n",
    "print(_setosa)\n",
    "print(_versicolor)\n",
    "print(_virginica)\n"
   ]
  },
  {
   "cell_type": "markdown",
   "metadata": {},
   "source": [
    "### 실습 02. Train - test set split"
   ]
  },
  {
   "cell_type": "markdown",
   "metadata": {},
   "source": [
    "실습수업 마지막에 소개한 dataset분리를 시도합니다\n",
    "\n",
    "학습용 dataset과 검증용 dataset을 나눠보겠습니다\n",
    "\n",
    "train_test_split은 data를 간편하게 나눌수 있도록 도와줍니다"
   ]
  },
  {
   "cell_type": "code",
   "execution_count": 80,
   "metadata": {},
   "outputs": [],
   "source": [
    "from sklearn.model_selection import train_test_split\n",
    "\n",
    "X_train, X_test, y_train, y_test=train_test_split(data,df['target'],test_size=0.2,shuffle=True,)"
   ]
  },
  {
   "cell_type": "code",
   "execution_count": 81,
   "metadata": {},
   "outputs": [
    {
     "data": {
      "text/plain": [
       "array([[6. , 2.7, 5.1, 1.6],\n",
       "       [4.8, 3.4, 1.6, 0.2],\n",
       "       [5. , 3.3, 1.4, 0.2],\n",
       "       [6.4, 3.2, 5.3, 2.3],\n",
       "       [7.7, 3.8, 6.7, 2.2],\n",
       "       [5.4, 3. , 4.5, 1.5],\n",
       "       [6.3, 2.9, 5.6, 1.8],\n",
       "       [4.4, 2.9, 1.4, 0.2],\n",
       "       [7.3, 2.9, 6.3, 1.8],\n",
       "       [5.2, 3.4, 1.4, 0.2],\n",
       "       [6.5, 3.2, 5.1, 2. ],\n",
       "       [6.4, 2.8, 5.6, 2.2],\n",
       "       [4.3, 3. , 1.1, 0.1],\n",
       "       [5.4, 3.7, 1.5, 0.2],\n",
       "       [6.7, 3.1, 4.7, 1.5],\n",
       "       [6.2, 2.8, 4.8, 1.8],\n",
       "       [5.4, 3.4, 1.7, 0.2],\n",
       "       [4.4, 3.2, 1.3, 0.2],\n",
       "       [4.8, 3. , 1.4, 0.3],\n",
       "       [5.7, 2.9, 4.2, 1.3],\n",
       "       [4.9, 2.5, 4.5, 1.7],\n",
       "       [4.9, 3. , 1.4, 0.2],\n",
       "       [4.8, 3.1, 1.6, 0.2],\n",
       "       [5.9, 3.2, 4.8, 1.8],\n",
       "       [7. , 3.2, 4.7, 1.4],\n",
       "       [7.6, 3. , 6.6, 2.1],\n",
       "       [4.6, 3.2, 1.4, 0.2],\n",
       "       [6.9, 3.1, 5.1, 2.3],\n",
       "       [5.5, 2.6, 4.4, 1.2],\n",
       "       [4.9, 2.4, 3.3, 1. ],\n",
       "       [7.2, 3.6, 6.1, 2.5],\n",
       "       [5.7, 2.5, 5. , 2. ],\n",
       "       [6.7, 3.1, 5.6, 2.4],\n",
       "       [4.9, 3.6, 1.4, 0.1],\n",
       "       [6. , 2.9, 4.5, 1.5],\n",
       "       [6.7, 3.3, 5.7, 2.1],\n",
       "       [6.2, 2.2, 4.5, 1.5],\n",
       "       [5.8, 2.7, 4.1, 1. ],\n",
       "       [7.7, 3. , 6.1, 2.3],\n",
       "       [6.9, 3.1, 4.9, 1.5],\n",
       "       [5. , 3.6, 1.4, 0.2],\n",
       "       [6.3, 2.5, 4.9, 1.5],\n",
       "       [6.2, 3.4, 5.4, 2.3],\n",
       "       [7.9, 3.8, 6.4, 2. ],\n",
       "       [5.1, 3.5, 1.4, 0.3],\n",
       "       [5.1, 3.8, 1.9, 0.4],\n",
       "       [6.7, 2.5, 5.8, 1.8],\n",
       "       [5.1, 3.5, 1.4, 0.2],\n",
       "       [5.8, 2.7, 3.9, 1.2],\n",
       "       [5.7, 2.8, 4.1, 1.3],\n",
       "       [5.7, 2.8, 4.5, 1.3],\n",
       "       [6. , 2.2, 4. , 1. ],\n",
       "       [5.5, 2.5, 4. , 1.3],\n",
       "       [6.5, 2.8, 4.6, 1.5],\n",
       "       [5.1, 3.3, 1.7, 0.5],\n",
       "       [6.3, 3.4, 5.6, 2.4],\n",
       "       [6.9, 3.2, 5.7, 2.3],\n",
       "       [6.7, 3.1, 4.4, 1.4],\n",
       "       [6.3, 2.8, 5.1, 1.5],\n",
       "       [5.5, 3.5, 1.3, 0.2],\n",
       "       [5. , 3.4, 1.6, 0.4],\n",
       "       [6.3, 2.3, 4.4, 1.3],\n",
       "       [5.1, 3.8, 1.5, 0.3],\n",
       "       [5.8, 2.8, 5.1, 2.4],\n",
       "       [4.9, 3.1, 1.5, 0.2],\n",
       "       [6.4, 2.7, 5.3, 1.9],\n",
       "       [5.9, 3. , 5.1, 1.8],\n",
       "       [5.5, 4.2, 1.4, 0.2],\n",
       "       [5.1, 3.8, 1.6, 0.2],\n",
       "       [4.6, 3.4, 1.4, 0.3],\n",
       "       [4.6, 3.6, 1. , 0.2],\n",
       "       [4.7, 3.2, 1.6, 0.2],\n",
       "       [5.4, 3.4, 1.5, 0.4],\n",
       "       [5. , 2.3, 3.3, 1. ],\n",
       "       [5.2, 2.7, 3.9, 1.4],\n",
       "       [5.8, 2.7, 5.1, 1.9],\n",
       "       [6.1, 2.8, 4.7, 1.2],\n",
       "       [6.1, 3. , 4.6, 1.4],\n",
       "       [4.8, 3.4, 1.9, 0.2],\n",
       "       [5. , 2. , 3.5, 1. ],\n",
       "       [5.7, 3.8, 1.7, 0.3],\n",
       "       [5.7, 3. , 4.2, 1.2],\n",
       "       [6. , 3.4, 4.5, 1.6],\n",
       "       [5. , 3. , 1.6, 0.2],\n",
       "       [6.5, 3. , 5.5, 1.8],\n",
       "       [6.5, 3. , 5.2, 2. ],\n",
       "       [5.2, 4.1, 1.5, 0.1],\n",
       "       [6.1, 2.8, 4. , 1.3],\n",
       "       [5.8, 2.6, 4. , 1.2],\n",
       "       [5. , 3.2, 1.2, 0.2],\n",
       "       [6.4, 2.9, 4.3, 1.3],\n",
       "       [4.6, 3.1, 1.5, 0.2],\n",
       "       [5.5, 2.4, 3.7, 1. ],\n",
       "       [6.4, 3.1, 5.5, 1.8],\n",
       "       [5.9, 3. , 4.2, 1.5],\n",
       "       [6.7, 3. , 5. , 1.7],\n",
       "       [6.6, 2.9, 4.6, 1.3],\n",
       "       [6.3, 3.3, 6. , 2.5],\n",
       "       [5.6, 2.5, 3.9, 1.1],\n",
       "       [5.1, 3.7, 1.5, 0.4],\n",
       "       [6.7, 3. , 5.2, 2.3],\n",
       "       [6.8, 2.8, 4.8, 1.4],\n",
       "       [6.2, 2.9, 4.3, 1.3],\n",
       "       [5.6, 2.7, 4.2, 1.3],\n",
       "       [7.2, 3. , 5.8, 1.6],\n",
       "       [7.2, 3.2, 6. , 1.8],\n",
       "       [5.8, 2.7, 5.1, 1.9],\n",
       "       [6. , 2.2, 5. , 1.5],\n",
       "       [5.2, 3.5, 1.5, 0.2],\n",
       "       [5.6, 2.9, 3.6, 1.3],\n",
       "       [6.9, 3.1, 5.4, 2.1],\n",
       "       [4.9, 3.1, 1.5, 0.1],\n",
       "       [5.3, 3.7, 1.5, 0.2],\n",
       "       [5.8, 4. , 1.2, 0.2],\n",
       "       [6.3, 2.7, 4.9, 1.8],\n",
       "       [5. , 3.5, 1.6, 0.6],\n",
       "       [4.4, 3. , 1.3, 0.2],\n",
       "       [6.5, 3. , 5.8, 2.2],\n",
       "       [5.4, 3.9, 1.3, 0.4],\n",
       "       [6.8, 3. , 5.5, 2.1]])"
      ]
     },
     "execution_count": 81,
     "metadata": {},
     "output_type": "execute_result"
    }
   ],
   "source": [
    "X_train"
   ]
  },
  {
   "cell_type": "code",
   "execution_count": 82,
   "metadata": {},
   "outputs": [
    {
     "data": {
      "text/plain": [
       "array([[6. , 3. , 4.8, 1.8],\n",
       "       [5.7, 4.4, 1.5, 0.4],\n",
       "       [5.1, 2.5, 3. , 1.1],\n",
       "       [6.8, 3.2, 5.9, 2.3],\n",
       "       [5.7, 2.6, 3.5, 1. ],\n",
       "       [5. , 3.5, 1.3, 0.3],\n",
       "       [6.1, 3. , 4.9, 1.8],\n",
       "       [7.1, 3. , 5.9, 2.1],\n",
       "       [4.7, 3.2, 1.3, 0.2],\n",
       "       [6.1, 2.9, 4.7, 1.4],\n",
       "       [4.5, 2.3, 1.3, 0.3],\n",
       "       [6.4, 3.2, 4.5, 1.5],\n",
       "       [5. , 3.4, 1.5, 0.2],\n",
       "       [6.3, 2.5, 5. , 1.9],\n",
       "       [5.6, 3. , 4.5, 1.5],\n",
       "       [6.3, 3.3, 4.7, 1.6],\n",
       "       [5.6, 3. , 4.1, 1.3],\n",
       "       [6.6, 3. , 4.4, 1.4],\n",
       "       [5.5, 2.4, 3.8, 1.1],\n",
       "       [5.5, 2.3, 4. , 1.3],\n",
       "       [6.1, 2.6, 5.6, 1.4],\n",
       "       [5.6, 2.8, 4.9, 2. ],\n",
       "       [6.4, 2.8, 5.6, 2.1],\n",
       "       [6.7, 3.3, 5.7, 2.5],\n",
       "       [7.7, 2.8, 6.7, 2. ],\n",
       "       [7.7, 2.6, 6.9, 2.3],\n",
       "       [5.4, 3.9, 1.7, 0.4],\n",
       "       [7.4, 2.8, 6.1, 1.9],\n",
       "       [4.8, 3. , 1.4, 0.1],\n",
       "       [5.1, 3.4, 1.5, 0.2]])"
      ]
     },
     "execution_count": 82,
     "metadata": {},
     "output_type": "execute_result"
    }
   ],
   "source": [
    "X_test"
   ]
  },
  {
   "cell_type": "code",
   "execution_count": 83,
   "metadata": {},
   "outputs": [
    {
     "data": {
      "text/plain": [
       "83     versicolor\n",
       "11         setosa\n",
       "49         setosa\n",
       "115     virginica\n",
       "117     virginica\n",
       "          ...    \n",
       "43         setosa\n",
       "38         setosa\n",
       "104     virginica\n",
       "16         setosa\n",
       "112     virginica\n",
       "Name: target, Length: 120, dtype: object"
      ]
     },
     "execution_count": 83,
     "metadata": {},
     "output_type": "execute_result"
    }
   ],
   "source": [
    "y_train"
   ]
  },
  {
   "cell_type": "code",
   "execution_count": 84,
   "metadata": {},
   "outputs": [
    {
     "data": {
      "text/plain": [
       "138     virginica\n",
       "15         setosa\n",
       "98     versicolor\n",
       "143     virginica\n",
       "79     versicolor\n",
       "40         setosa\n",
       "127     virginica\n",
       "102     virginica\n",
       "2          setosa\n",
       "63     versicolor\n",
       "41         setosa\n",
       "51     versicolor\n",
       "7          setosa\n",
       "146     virginica\n",
       "66     versicolor\n",
       "56     versicolor\n",
       "88     versicolor\n",
       "75     versicolor\n",
       "80     versicolor\n",
       "53     versicolor\n",
       "134     virginica\n",
       "121     virginica\n",
       "128     virginica\n",
       "144     virginica\n",
       "122     virginica\n",
       "118     virginica\n",
       "5          setosa\n",
       "130     virginica\n",
       "12         setosa\n",
       "39         setosa\n",
       "Name: target, dtype: object"
      ]
     },
     "execution_count": 84,
     "metadata": {},
     "output_type": "execute_result"
    }
   ],
   "source": [
    "y_test"
   ]
  },
  {
   "cell_type": "markdown",
   "metadata": {},
   "source": [
    "### 실습 03. k-Nearest Neighbors Classifier"
   ]
  },
  {
   "cell_type": "markdown",
   "metadata": {},
   "source": [
    "Scikit learn으로부터 kNN Classifier를 불러오겠습니다"
   ]
  },
  {
   "cell_type": "code",
   "execution_count": 96,
   "metadata": {},
   "outputs": [],
   "source": [
    "from sklearn.neighbors import KNeighborsClassifier\n",
    "import matplotlib.pyplot as plt"
   ]
  },
  {
   "cell_type": "markdown",
   "metadata": {},
   "source": [
    "나뉜 데이터셋을 분류하기 위한 적절한 이웃의 갯수 $k$를 찾아보려합니다\n",
    "\n",
    "반복문을 사용하여 이웃의 갯수을 변화시켜가며 분류하고, 각 class별 정확도를 선형으로 시각화해주세요\n",
    "\n",
    "아래는 예시 그림입니다\n",
    "\n",
    "![](https://i.imgur.com/zZOKD42.png)"
   ]
  },
  {
   "cell_type": "code",
   "execution_count": 98,
   "metadata": {},
   "outputs": [
    {
     "data": {
      "text/plain": [
       "0.9583333333333334"
      ]
     },
     "execution_count": 98,
     "metadata": {},
     "output_type": "execute_result"
    }
   ],
   "source": [
    "classifier = KNeighborsClassifier(n_neighbors = 3)\n",
    "classifier.fit(X_train, y_train)\n",
    "prediction = classifier.predict(X_test)\n",
    "# train set의 정확도\n",
    "classifier.score(X_train, y_train)"
   ]
  },
  {
   "cell_type": "code",
   "execution_count": 229,
   "metadata": {},
   "outputs": [],
   "source": [
    "train_acc = []\n",
    "test_acc = []\n",
    "\n",
    "for n in range(1,15):\n",
    "    classifier = KNeighborsClassifier(n_jobs=-1, n_neighbors=n)\n",
    "    classifier.fit(X_train, y_train)\n",
    "    prediction = classifier.predict(X_test)\n",
    "    train_acc.append(classifier.score(X_train, y_train))\n",
    "    test_acc.append((prediction==y_test).mean())"
   ]
  },
  {
   "cell_type": "code",
   "execution_count": 230,
   "metadata": {},
   "outputs": [
    {
     "data": {
      "text/plain": [
       "<matplotlib.legend.Legend at 0x2b593f9ce48>"
      ]
     },
     "execution_count": 230,
     "metadata": {},
     "output_type": "execute_result"
    },
    {
     "data": {
      "image/png": "[encoded data removed]",
      "text/plain": [
       "<Figure size 864x648 with 1 Axes>"
      ]
     },
     "metadata": {
      "needs_background": "light"
     },
     "output_type": "display_data"
    }
   ],
   "source": [
    "plt.figure(figsize=(12, 9))\n",
    "plt.plot(range(1, 15), train_acc, label='TRAIN set')\n",
    "plt.plot(range(1, 15), test_acc, label='TEST set')\n",
    "plt.xlabel(\"neighbors k\")\n",
    "plt.ylabel(\"accuracy\")\n",
    "plt.xticks(np.arange(0, 16, step=1))\n",
    "plt.legend()"
   ]
  },
  {
   "cell_type": "markdown",
   "metadata": {},
   "source": [
    "이번에는 data의 변수들을 scaling해보고 거리기반으로 분류한 뒤 위와 같은 형태로 시각화해주세요\n",
    "\n",
    "그리고 각 결과에 대한 본인의 생각을 마크다운으로 자유롭게 작성해주시면 됩니다"
   ]
  },
  {
   "cell_type": "markdown",
   "metadata": {},
   "source": [
    "k의 값이 작을때는 결정 경계가 매우 복잡해지고, \n",
    "k의 값이 커지게 되면 결정 단계가 단순해지는 것을 확인할 수 있다."
   ]
  }
 ],
 "metadata": {
  "kernelspec": {
   "display_name": "Python 3",
   "language": "python",
   "name": "python3"
  },
  "language_info": {
   "codemirror_mode": {
    "name": "ipython",
    "version": 3
   },
   "file_extension": ".py",
   "mimetype": "text/x-python",
   "name": "python",
   "nbconvert_exporter": "python",
   "pygments_lexer": "ipython3",
   "version": "3.7.4"
  }
 },
 "nbformat": 4,
 "nbformat_minor": 4
}
