{
 "cells": [
  {
   "cell_type": "code",
   "execution_count": 2,
   "metadata": {},
   "outputs": [
    {
     "data": {
      "text/plain": [
       "((44267, 54), (44267, 1))"
      ]
     },
     "execution_count": 2,
     "metadata": {},
     "output_type": "execute_result"
    }
   ],
   "source": [
    "import numpy as np\n",
    "import pandas as pds\n",
    "\n",
    "x=pds.read_csv('08_mlp_x_train.csv')\n",
    "y=pds.read_csv('08_mlp_y_train.csv')\n",
    "\n",
    "x.shape, y.shape"
   ]
  },
  {
   "cell_type": "markdown",
   "metadata": {},
   "source": [
    "## 1. Logistic regression"
   ]
  },
  {
   "cell_type": "code",
   "execution_count": 6,
   "metadata": {},
   "outputs": [],
   "source": [
    "from sklearn.linear_model import LogisticRegression\n",
    "logistic=LogisticRegression()"
   ]
  },
  {
   "cell_type": "code",
   "execution_count": 8,
   "metadata": {},
   "outputs": [
    {
     "name": "stdout",
     "output_type": "stream",
     "text": [
      "44267 44267\n"
     ]
    }
   ],
   "source": [
    "from sklearn.model_selection import KFold\n",
    "kf=KFold(shuffle=True)\n",
    "\n",
    "test_index_set=set()\n",
    "\n",
    "for train_index, test_index in kf.split(x,y):\n",
    "    test_index_set.update(test_index)\n",
    "\n",
    "print(len(test_index_set), x.shape[0])"
   ]
  },
  {
   "cell_type": "code",
   "execution_count": 13,
   "metadata": {},
   "outputs": [
    {
     "name": "stdout",
     "output_type": "stream",
     "text": [
      "평균 정확도 : 72.323%, 정확도의 편차 : 0.00565\n"
     ]
    }
   ],
   "source": [
    "import warnings\n",
    "warnings.filterwarnings('ignore')\n",
    "\n",
    "scores=[]\n",
    "logistic = LogisticRegression(max_iter=100)\n",
    "for train_index, test_index in kf.split(x,y):\n",
    "    x_train, x_test,y_train,y_test=\\\n",
    "    x.iloc[train_index], x.iloc[test_index], y.iloc[train_index], y.iloc[test_index]\n",
    "    \n",
    "    logistic.fit(x_train, y_train.values.ravel())\n",
    "    scores.append(logistic.score(x_test,y_test.values.ravel()))\n",
    "print(f'평균 정확도 : {np.array(scores).mean()*100:.5}%, 정확도의 편차 : {np.array(scores).std():.3}')"
   ]
  },
  {
   "cell_type": "markdown",
   "metadata": {},
   "source": [
    "## 2. Perceptron"
   ]
  },
  {
   "cell_type": "code",
   "execution_count": 16,
   "metadata": {},
   "outputs": [
    {
     "name": "stdout",
     "output_type": "stream",
     "text": [
      "[0.674949175513892, 0.6735938558843461, 0.5848864791596069, 0.6932113407884333, 0.6630520727437027]\n",
      "평균 정확도 : 65.794%, 정확도의 편차 : 0.0378\n"
     ]
    }
   ],
   "source": [
    "from sklearn.linear_model import Perceptron\n",
    "\n",
    "percep=Perceptron(n_jobs=-1, eta0=0.0001,\n",
    "                  max_iter=10000,\n",
    "                  tol=1e-5, n_iter_no_change=100)\n",
    "scores=[]\n",
    "for train_index, test_index in kf.split(x,y):\n",
    "    x_train, x_test, y_train, y_test=\\\n",
    "    x.iloc[train_index], x.iloc[test_index], y.iloc[train_index], y.iloc[test_index]\n",
    "    \n",
    "    percep.fit(x_train,y_train.values.ravel())\n",
    "    scores.append(percep.score(x_test,y_test.values.ravel()))\n",
    "print(scores)\n",
    "print(f'평균 정확도 : {np.array(scores).mean()*100:.5}%, 정확도의 편차 : {np.array(scores).std():.3}')"
   ]
  },
  {
   "cell_type": "markdown",
   "metadata": {},
   "source": [
    "## 3. Multi Layer Perceptron"
   ]
  },
  {
   "cell_type": "code",
   "execution_count": 17,
   "metadata": {},
   "outputs": [
    {
     "data": {
      "text/plain": [
       "MLPClassifier()"
      ]
     },
     "execution_count": 17,
     "metadata": {},
     "output_type": "execute_result"
    }
   ],
   "source": [
    "from sklearn.neural_network import MLPClassifier\n",
    "\n",
    "MLPClassifier()"
   ]
  },
  {
   "cell_type": "code",
   "execution_count": 20,
   "metadata": {},
   "outputs": [
    {
     "name": "stdout",
     "output_type": "stream",
     "text": [
      "[0.756155409984188, 0.683871696408403, 0.7484468541737265, 0.7156895967468655, 0.7072178922399187]\n",
      "평균 정확도 : 72.228%, 정확도의 편차 : 0.0267\n",
      "Wall time: 17.1 s\n"
     ]
    }
   ],
   "source": [
    "%%time\n",
    "from sklearn.neural_network import MLPClassifier\n",
    "\n",
    "mlp=MLPClassifier((100,),\n",
    "                  activation='identity',\n",
    "                  max_iter=200,\n",
    "                  n_iter_no_change=10,\n",
    "            )\n",
    "scores=[]\n",
    "for train_index, test_index in kf.split(x,y):\n",
    "    x_train, x_test, y_train, y_test=\\\n",
    "    x.iloc[train_index], x.iloc[test_index], y.iloc[train_index], y.iloc[test_index]\n",
    "    \n",
    "    mlp.fit(x_train, y_train.values.ravel())\n",
    "    scores.append(mlp.score(x_test,y_test.values.ravel()))\n",
    "print(scores)\n",
    "print(f'평균 정확도 : {np.array(scores).mean()*100:.5}%, 정확도의 편차 : {np.array(scores).std():.3}')"
   ]
  },
  {
   "cell_type": "code",
   "execution_count": 21,
   "metadata": {},
   "outputs": [
    {
     "name": "stdout",
     "output_type": "stream",
     "text": [
      "[0.6599277162864242, 0.7223853625480009, 0.7074438043601039, 0.6869987574833389, 0.691516999887044]\n",
      "평균 정확도 : 69.365%, 정확도의 편차 : 0.021\n",
      "Wall time: 1min 57s\n"
     ]
    }
   ],
   "source": [
    "%%time\n",
    "from sklearn.neural_network import MLPClassifier\n",
    "\n",
    "mlp=MLPClassifier((100,100,100),\n",
    "                  activation='identity',\n",
    "                  max_iter=200,\n",
    "                  n_iter_no_change=10,\n",
    "            )\n",
    "scores=[]\n",
    "for train_index, test_index in kf.split(x,y):\n",
    "    x_train, x_test, y_train, y_test=\\\n",
    "    x.iloc[train_index], x.iloc[test_index], y.iloc[train_index], y.iloc[test_index]\n",
    "    \n",
    "    mlp.fit(x_train, y_train.values.ravel())\n",
    "    scores.append(mlp.score(x_test,y_test.values.ravel()))\n",
    "print(scores)\n",
    "print(f'평균 정확도 : {np.array(scores).mean()*100:.5}%, 정확도의 편차 : {np.array(scores).std():.3}')"
   ]
  }
 ],
 "metadata": {
  "kernelspec": {
   "display_name": "Python 3",
   "language": "python",
   "name": "python3"
  },
  "language_info": {
   "codemirror_mode": {
    "name": "ipython",
    "version": 3
   },
   "file_extension": ".py",
   "mimetype": "text/x-python",
   "name": "python",
   "nbconvert_exporter": "python",
   "pygments_lexer": "ipython3",
   "version": "3.7.4"
  }
 },
 "nbformat": 4,
 "nbformat_minor": 2
}
