{
 "cells": [
  {
   "cell_type": "markdown",
   "metadata": {},
   "source": [
    "### 실습 1. Python"
   ]
  },
  {
   "cell_type": "markdown",
   "metadata": {},
   "source": [
    "하나는 초등학교에 입학하고 영어를 배웠습니다\n",
    "\n",
    "배운 영어를 사용하여 단어들을 썼는데, 문득 다른 방법으로 읽고 싶어졌습니다\n",
    "\n",
    "그래서 가로로 읽는 것이 아니라 세로로 읽어보려고 합니다.\n",
    "\n",
    "파이썬을 사용하여, 아래 순서에 따라 하나가 읽는 알파벳을 순서대로 작성되게 해주세요\n",
    "\n",
    "1. 첫 입력으로써, 하나가 쓴 단어가 몇 개 존재하는지 저장한다\n",
    "\n",
    "2. 첫 입력때 받은 수만큼 입력을 받아 단어들을 각각 저장한다\n",
    "\n",
    "3. 각각 저장된 단어 빠른 순서를 먼저 입력된 단어부터 출력되게 만든다\n",
    "\n",
    "아래는 입력과 출력의 예시입니다"
   ]
  },
  {
   "cell_type": "markdown",
   "metadata": {},
   "source": [
    "입력 예시 )\n",
    "![Vua](https://i.imgur.com/GR2YsBV.png)"
   ]
  },
  {
   "cell_type": "markdown",
   "metadata": {},
   "source": [
    "출력 예시 )\n",
    "![Vae](https://i.imgur.com/3F7uZJ5.png)"
   ]
  },
  {
   "cell_type": "markdown",
   "metadata": {},
   "source": [
    "Python에서 사용자 입력 함수는 input으로 사용가능합니다\n",
    "\n",
    "이하 셀에 입력과 출력이 예시와 같이 이뤄지도록 작성해주세요"
   ]
  },
  {
   "cell_type": "code",
   "execution_count": 27,
   "metadata": {},
   "outputs": [
    {
     "name": "stdout",
     "output_type": "stream",
     "text": [
      "Once deleted, variables cannot be recovered. Proceed (y/[n])? y\n"
     ]
    }
   ],
   "source": [
    "%reset"
   ]
  },
  {
   "cell_type": "code",
   "execution_count": 28,
   "metadata": {
    "scrolled": true
   },
   "outputs": [
    {
     "name": "stdout",
     "output_type": "stream",
     "text": [
      "입력 받을 단어의 수를 정해주세요 : 3\n",
      "입력 1: abs\n",
      "입력 2: asdfsadf\n",
      "입력 3: sadfsadfasdfsf\n",
      "입력받은 단어들을 세로 순서로 출력하면 aasbsasddffssaaddffasdfsf 입니다.\n"
     ]
    }
   ],
   "source": [
    "num = int(input(\"입력 받을 단어의 수를 정해주세요 : \"))\n",
    "words = []\n",
    "max = 0\n",
    "\n",
    "for i in range(0,num):\n",
    "    word = list(str(input(\"입력 %d: \" %(i+1))))\n",
    "    words.append(word)\n",
    "    if max < len(word):\n",
    "        max = len(word)\n",
    "    else:\n",
    "        continue\n",
    "\n",
    "temp = \"\"\n",
    "for i in range(0,max):\n",
    "    for j in range(0,num):\n",
    "        if i>=len(words[j]):\n",
    "            continue\n",
    "        else:\n",
    "            temp += words[j][i]\n",
    "            \n",
    "print(\"입력받은 단어들을 세로 순서로 출력하면\",temp,\"입니다.\")   "
   ]
  },
  {
   "cell_type": "markdown",
   "metadata": {},
   "source": [
    "### 실습 2. Numpy"
   ]
  },
  {
   "cell_type": "code",
   "execution_count": 42,
   "metadata": {},
   "outputs": [],
   "source": [
    "import numpy as np\n",
    "\n",
    "r1=np.random.normal(1,1,(3000))\n",
    "r2=np.random.normal(-1,1,(1000,3))"
   ]
  },
  {
   "cell_type": "markdown",
   "metadata": {},
   "source": [
    "1) r1과 r2를 행끼리 붙이고 각 열마다 평균을 구해주세요\n",
    "\n",
    "   r1과 r2를 붙이기 위해서는 reshape을 사용해야 합니다"
   ]
  },
  {
   "cell_type": "code",
   "execution_count": 43,
   "metadata": {},
   "outputs": [
    {
     "name": "stdout",
     "output_type": "stream",
     "text": [
      "r1 평균 :  -0.967722331638207\n",
      "r2 평균 :  -0.17802940710970727\n"
     ]
    }
   ],
   "source": [
    "r1 = r1.reshape(-1,1)\n",
    "r2 = r2.reshape(-1,1)\n",
    "\n",
    "r = np.hstack((r1,r2))\n",
    "print(\"r1 평균 : \",np.mean(r[0]))\n",
    "print(\"r2 평균 : \",np.mean(r[1]))"
   ]
  },
  {
   "cell_type": "markdown",
   "metadata": {},
   "source": [
    "2) r1와 r2를 열끼리 붙이고 각 행마다 표준편차를 구해주세요\n",
    "\n",
    "   r1과 r2를 붙이기 위해서는 reshape을 사용해야 합니다"
   ]
  },
  {
   "cell_type": "code",
   "execution_count": 44,
   "metadata": {},
   "outputs": [
    {
     "name": "stdout",
     "output_type": "stream",
     "text": [
      "r1 표준편차 :  0.143369357009011\n",
      "r2 표준편차 :  1.9536342930139692\n"
     ]
    }
   ],
   "source": [
    "r1 = r1.reshape(-1,1)\n",
    "r2 = r2.reshape(-1,1)\n",
    "\n",
    "r = np.hstack((r1,r2))\n",
    "print(\"r1 표준편차 : \",np.std(r[0]))\n",
    "print(\"r2 표준편차 : \",np.std(r[1]))"
   ]
  },
  {
   "cell_type": "markdown",
   "metadata": {},
   "source": [
    "### 실습 3. pandas"
   ]
  },
  {
   "cell_type": "code",
   "execution_count": 46,
   "metadata": {},
   "outputs": [],
   "source": [
    "import pandas as pd"
   ]
  },
  {
   "cell_type": "markdown",
   "metadata": {},
   "source": [
    "실습 2에서 만든 값들을 사용하겠습니다\n",
    "\n",
    "실습 2-1)와 같이 r1과 r2를 행끼리 붙이고 DataFrame으로 만들려합니다\n",
    "\n",
    "DataFrame의 column 이름이 각각 'a', 'b', 'c'가 되도록 만들어주세요\n",
    "\n",
    "출력 예시 ) \n",
    "\n",
    "![Vae](https://i.imgur.com/fi1jC2e.png)"
   ]
  },
  {
   "cell_type": "code",
   "execution_count": 49,
   "metadata": {},
   "outputs": [
    {
     "data": {
      "text/html": [
       "<div>\n",
       "<style scoped>\n",
       "    .dataframe tbody tr th:only-of-type {\n",
       "        vertical-align: middle;\n",
       "    }\n",
       "\n",
       "    .dataframe tbody tr th {\n",
       "        vertical-align: top;\n",
       "    }\n",
       "\n",
       "    .dataframe thead th {\n",
       "        text-align: right;\n",
       "    }\n",
       "</style>\n",
       "<table border=\"1\" class=\"dataframe\">\n",
       "  <thead>\n",
       "    <tr style=\"text-align: right;\">\n",
       "      <th></th>\n",
       "      <th>a</th>\n",
       "      <th>b</th>\n",
       "    </tr>\n",
       "  </thead>\n",
       "  <tbody>\n",
       "    <tr>\n",
       "      <td>0</td>\n",
       "      <td>-0.824353</td>\n",
       "      <td>-1.111092</td>\n",
       "    </tr>\n",
       "    <tr>\n",
       "      <td>1</td>\n",
       "      <td>1.775605</td>\n",
       "      <td>-2.131664</td>\n",
       "    </tr>\n",
       "    <tr>\n",
       "      <td>2</td>\n",
       "      <td>1.991303</td>\n",
       "      <td>-0.844939</td>\n",
       "    </tr>\n",
       "    <tr>\n",
       "      <td>3</td>\n",
       "      <td>0.333318</td>\n",
       "      <td>-1.071032</td>\n",
       "    </tr>\n",
       "    <tr>\n",
       "      <td>4</td>\n",
       "      <td>-0.814390</td>\n",
       "      <td>1.245964</td>\n",
       "    </tr>\n",
       "    <tr>\n",
       "      <td>...</td>\n",
       "      <td>...</td>\n",
       "      <td>...</td>\n",
       "    </tr>\n",
       "    <tr>\n",
       "      <td>2995</td>\n",
       "      <td>0.705565</td>\n",
       "      <td>-0.917310</td>\n",
       "    </tr>\n",
       "    <tr>\n",
       "      <td>2996</td>\n",
       "      <td>2.215048</td>\n",
       "      <td>-0.288474</td>\n",
       "    </tr>\n",
       "    <tr>\n",
       "      <td>2997</td>\n",
       "      <td>1.610909</td>\n",
       "      <td>-3.028145</td>\n",
       "    </tr>\n",
       "    <tr>\n",
       "      <td>2998</td>\n",
       "      <td>1.303969</td>\n",
       "      <td>0.106512</td>\n",
       "    </tr>\n",
       "    <tr>\n",
       "      <td>2999</td>\n",
       "      <td>1.223884</td>\n",
       "      <td>0.907344</td>\n",
       "    </tr>\n",
       "  </tbody>\n",
       "</table>\n",
       "<p>3000 rows × 2 columns</p>\n",
       "</div>"
      ],
      "text/plain": [
       "             a         b\n",
       "0    -0.824353 -1.111092\n",
       "1     1.775605 -2.131664\n",
       "2     1.991303 -0.844939\n",
       "3     0.333318 -1.071032\n",
       "4    -0.814390  1.245964\n",
       "...        ...       ...\n",
       "2995  0.705565 -0.917310\n",
       "2996  2.215048 -0.288474\n",
       "2997  1.610909 -3.028145\n",
       "2998  1.303969  0.106512\n",
       "2999  1.223884  0.907344\n",
       "\n",
       "[3000 rows x 2 columns]"
      ]
     },
     "execution_count": 49,
     "metadata": {},
     "output_type": "execute_result"
    }
   ],
   "source": [
    "r = pd.DataFrame(np.hstack((r1,r2)), columns=['a','b'])\n",
    "r\n",
    "# 행이2개인데 c는 뭔지 몰라서 a,b만 했습니다."
   ]
  }
 ],
 "metadata": {
  "kernelspec": {
   "display_name": "Python 3",
   "language": "python",
   "name": "python3"
  },
  "language_info": {
   "codemirror_mode": {
    "name": "ipython",
    "version": 3
   },
   "file_extension": ".py",
   "mimetype": "text/x-python",
   "name": "python",
   "nbconvert_exporter": "python",
   "pygments_lexer": "ipython3",
   "version": "3.7.4"
  }
 },
 "nbformat": 4,
 "nbformat_minor": 4
}
