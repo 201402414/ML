{
 "cells": [
  {
   "cell_type": "code",
   "execution_count": 1,
   "metadata": {},
   "outputs": [],
   "source": [
    "from sklearn import datasets\n",
    "import numpy as np\n",
    "import pandas as pds\n",
    "\n",
    "x_train,x_test=pds.read_csv('./data/x_train.csv'),pds.read_csv('./data/x_test.csv')\n",
    "y_train,y_test=pds.read_csv('./data/y_train.csv'),pds.read_csv('./data/y_test.csv')\n"
   ]
  },
  {
   "cell_type": "markdown",
   "metadata": {},
   "source": [
    "1. Voting Ensemble"
   ]
  },
  {
   "cell_type": "code",
   "execution_count": 2,
   "metadata": {},
   "outputs": [
    {
     "name": "stdout",
     "output_type": "stream",
     "text": [
      "[('GNBC', GaussianNB()), ('kNN-2', KNeighborsClassifier(n_neighbors=2)), ('kNN-5', KNeighborsClassifier()), ('kNN-10', KNeighborsClassifier(n_neighbors=10)), ('DT-0', DecisionTreeClassifier()), ('DT-1', DecisionTreeClassifier()), ('DT-2', DecisionTreeClassifier())]\n"
     ]
    }
   ],
   "source": [
    "from sklearn.tree import DecisionTreeClassifier\n",
    "from sklearn.neighbors import KNeighborsClassifier\n",
    "from sklearn.naive_bayes import GaussianNB\n",
    "\n",
    "from sklearn.ensemble import VotingClassifier\n",
    "\n",
    "models=[('GNBC', GaussianNB())]+[(f'kNN-{n}', KNeighborsClassifier(n)) for n in [2,5,10]]+\\\n",
    "        [(f'DT-{_}',DecisionTreeClassifier()) for _ in range(3)]\n",
    "print(models)"
   ]
  },
  {
   "cell_type": "code",
   "execution_count": 3,
   "metadata": {},
   "outputs": [
    {
     "data": {
      "text/plain": [
       "array([[ 6.4  ,  0.46 ,  0.22 , ...,  3.39 ,  0.6  , 10.5  ],\n",
       "       [ 6.3  ,  0.34 ,  0.36 , ...,  3.15 ,  0.49 ,  9.7  ],\n",
       "       [ 8.1  ,  0.725,  0.22 , ...,  3.36 ,  0.55 ,  9.1  ],\n",
       "       ...,\n",
       "       [ 7.9  ,  0.16 ,  0.3  , ...,  3.47 ,  0.44 ,  9.   ],\n",
       "       [ 6.8  ,  0.3  ,  0.33 , ...,  3.1  ,  0.56 ,  9.8  ],\n",
       "       [ 6.2  ,  0.17 ,  0.28 , ...,  3.41 ,  0.46 , 10.8  ]])"
      ]
     },
     "execution_count": 3,
     "metadata": {},
     "output_type": "execute_result"
    }
   ],
   "source": [
    "x_train.values"
   ]
  },
  {
   "cell_type": "code",
   "execution_count": 4,
   "metadata": {},
   "outputs": [
    {
     "data": {
      "text/plain": [
       "array([0, 0, 0, ..., 0, 0, 2], dtype=int64)"
      ]
     },
     "execution_count": 4,
     "metadata": {},
     "output_type": "execute_result"
    }
   ],
   "source": [
    "y_train.values.ravel()"
   ]
  },
  {
   "cell_type": "code",
   "execution_count": 5,
   "metadata": {},
   "outputs": [
    {
     "name": "stderr",
     "output_type": "stream",
     "text": [
      "C:\\Users\\micke\\Anaconda3\\lib\\site-packages\\sklearn\\utils\\validation.py:72: DataConversionWarning: A column-vector y was passed when a 1d array was expected. Please change the shape of y to (n_samples, ), for example using ravel().\n",
      "  return f(**kwargs)\n"
     ]
    },
    {
     "name": "stdout",
     "output_type": "stream",
     "text": [
      "ensemble score : 63.436%\n",
      "GNBC's score : 48.821%\n",
      "kNN-2's score : 53.333%\n",
      "kNN-5's score : 51.436%\n",
      "kNN-10's score : 49.282%\n",
      "DT-0's score : 63.282%\n",
      "DT-1's score : 62.462%\n",
      "DT-2's score : 62.0%\n"
     ]
    }
   ],
   "source": [
    "copy_models=models.copy()\n",
    "\n",
    "ensemble=VotingClassifier(models,n_jobs=-1, voting='hard')\n",
    "\n",
    "ensemble.fit(x_train.values,y_train.values)\n",
    "\n",
    "print(f'ensemble score : {ensemble.score(x_test,y_test)*100:.5}%')\n",
    "\n",
    "for clf in copy_models:\n",
    "    clf[1].fit(x_train.values,y_train.values.ravel())\n",
    "    print(f\"{clf[0]}'s score : {clf[1].score(x_test,y_test)*100:.5}%\")"
   ]
  },
  {
   "cell_type": "code",
   "execution_count": 6,
   "metadata": {},
   "outputs": [
    {
     "name": "stdout",
     "output_type": "stream",
     "text": [
      "ensemble score : 63.385%\n",
      "GNBC's score : 48.821%\n",
      "kNN-2's score : 53.333%\n",
      "kNN-5's score : 51.436%\n",
      "kNN-10's score : 49.282%\n",
      "DT-0's score : 63.231%\n",
      "DT-1's score : 62.308%\n",
      "DT-2's score : 61.949%\n"
     ]
    }
   ],
   "source": [
    "models=[('GNBC', GaussianNB())]+[(f'kNN-{n}', KNeighborsClassifier(n)) for n in [2,5,10]]+\\\n",
    "        [(f'DT-{_}',DecisionTreeClassifier()) for _ in range(3)]\n",
    "\n",
    "copy_models=models.copy()\n",
    "\n",
    "ensemble=VotingClassifier(models,n_jobs=-1,voting='soft')\n",
    "\n",
    "ensemble.fit(x_train.values,y_train.values.ravel())\n",
    "\n",
    "print(f'ensemble score : {ensemble.score(x_test,y_test)*100:.5}%')\n",
    "\n",
    "for clf in copy_models:\n",
    "    clf[1].fit(x_train.values,y_train.values.ravel())\n",
    "    print(f\"{clf[0]}'s score : {clf[1].score(x_test,y_test)*100:.5}%\")"
   ]
  },
  {
   "cell_type": "markdown",
   "metadata": {},
   "source": [
    "2. Random Forest"
   ]
  },
  {
   "cell_type": "code",
   "execution_count": 7,
   "metadata": {},
   "outputs": [
    {
     "name": "stdout",
     "output_type": "stream",
     "text": [
      "ensemble score : 69.538%\n"
     ]
    }
   ],
   "source": [
    "from sklearn.ensemble import RandomForestClassifier\n",
    "\n",
    "rf=RandomForestClassifier()\n",
    "rf.fit(x_train.values, y_train.values.ravel())\n",
    "print(f'ensemble score : {rf.score(x_test,y_test)*100:.5}%')"
   ]
  },
  {
   "cell_type": "markdown",
   "metadata": {},
   "source": [
    "3. Gradient Boosting Machine"
   ]
  },
  {
   "cell_type": "code",
   "execution_count": 8,
   "metadata": {},
   "outputs": [
    {
     "ename": "NameError",
     "evalue": "name 'fit' is not defined",
     "output_type": "error",
     "traceback": [
      "\u001b[1;31m---------------------------------------------------------------------------\u001b[0m",
      "\u001b[1;31mNameError\u001b[0m                                 Traceback (most recent call last)",
      "\u001b[1;32m<ipython-input-8-fffad38eff36>\u001b[0m in \u001b[0;36m<module>\u001b[1;34m\u001b[0m\n\u001b[0;32m      2\u001b[0m \u001b[1;33m\u001b[0m\u001b[0m\n\u001b[0;32m      3\u001b[0m \u001b[0mgbc\u001b[0m\u001b[1;33m=\u001b[0m\u001b[0mGradientBoostingClassifier\u001b[0m\u001b[1;33m(\u001b[0m\u001b[0mn_estimators\u001b[0m\u001b[1;33m=\u001b[0m\u001b[1;36m100000\u001b[0m\u001b[1;33m,\u001b[0m\u001b[0mn_iter_no_change\u001b[0m\u001b[1;33m=\u001b[0m\u001b[1;36m1000\u001b[0m\u001b[1;33m,\u001b[0m\u001b[0mverbose\u001b[0m\u001b[1;33m=\u001b[0m\u001b[1;36m1\u001b[0m\u001b[1;33m)\u001b[0m\u001b[1;33m\u001b[0m\u001b[1;33m\u001b[0m\u001b[0m\n\u001b[1;32m----> 4\u001b[1;33m \u001b[0mgbc\u001b[0m\u001b[1;33m=\u001b[0m\u001b[0mfit\u001b[0m\u001b[1;33m(\u001b[0m\u001b[0mx_train\u001b[0m\u001b[1;33m.\u001b[0m\u001b[0mvalues\u001b[0m\u001b[1;33m,\u001b[0m\u001b[0my_train\u001b[0m\u001b[1;33m.\u001b[0m\u001b[0mvalues\u001b[0m\u001b[1;33m.\u001b[0m\u001b[0mravel\u001b[0m\u001b[1;33m(\u001b[0m\u001b[1;33m)\u001b[0m\u001b[1;33m)\u001b[0m\u001b[1;33m\u001b[0m\u001b[1;33m\u001b[0m\u001b[0m\n\u001b[0m\u001b[0;32m      5\u001b[0m \u001b[1;33m\u001b[0m\u001b[0m\n\u001b[0;32m      6\u001b[0m \u001b[0mprint\u001b[0m\u001b[1;33m(\u001b[0m\u001b[1;34m'학습하는 동안 생성한 weak learner의 갯수 : '\u001b[0m\u001b[1;33m,\u001b[0m \u001b[0mgbc\u001b[0m\u001b[1;33m.\u001b[0m\u001b[0mn_estimators_\u001b[0m\u001b[1;33m)\u001b[0m\u001b[1;33m\u001b[0m\u001b[1;33m\u001b[0m\u001b[0m\n",
      "\u001b[1;31mNameError\u001b[0m: name 'fit' is not defined"
     ]
    }
   ],
   "source": [
    "from sklearn.ensemble import GradientBoostingClassifier\n",
    "\n",
    "gbc=GradientBoostingClassifier(n_estimators=100000,n_iter_no_change=1000,verbose=1)\n",
    "gbc=fit(x_train.values,y_train.values.ravel())\n",
    "\n",
    "print('학습하는 동안 생성한 weak learner의 갯수 : ', gbc.n_estimators_)\n",
    "print(f'모델의 정확도 : {gbc.score(x_test.values,y_test.values.ravel())*100:.5}%')"
   ]
  },
  {
   "cell_type": "code",
   "execution_count": null,
   "metadata": {},
   "outputs": [],
   "source": []
  },
  {
   "cell_type": "code",
   "execution_count": null,
   "metadata": {},
   "outputs": [],
   "source": []
  },
  {
   "cell_type": "code",
   "execution_count": null,
   "metadata": {},
   "outputs": [],
   "source": []
  },
  {
   "cell_type": "code",
   "execution_count": null,
   "metadata": {},
   "outputs": [],
   "source": []
  },
  {
   "cell_type": "code",
   "execution_count": null,
   "metadata": {},
   "outputs": [],
   "source": []
  }
 ],
 "metadata": {
  "kernelspec": {
   "display_name": "Python 3",
   "language": "python",
   "name": "python3"
  },
  "language_info": {
   "codemirror_mode": {
    "name": "ipython",
    "version": 3
   },
   "file_extension": ".py",
   "mimetype": "text/x-python",
   "name": "python",
   "nbconvert_exporter": "python",
   "pygments_lexer": "ipython3",
   "version": "3.7.4"
  }
 },
 "nbformat": 4,
 "nbformat_minor": 2
}
