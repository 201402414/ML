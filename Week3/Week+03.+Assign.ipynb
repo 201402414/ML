{
 "cells": [
  {
   "cell_type": "markdown",
   "metadata": {},
   "source": [
    "# Week 03. Naive Bayes Classfier\n",
    "\n",
    "과제는 총 5개의 cell을 채워주셔야합니다\n",
    "\n",
    "1~4 문제는 영상과 실습자료에 나와있는 것들을 적절히 응용하시면 됩니다\n",
    "\n",
    "마지막 5번의 경우 본인의 생각을 마크다운으로 작성하는 부분입니다\n",
    "\n",
    "주석의 경우 이미지, 테이블 등의 표현이 어려운 관계로 받지 않겠습니다"
   ]
  },
  {
   "cell_type": "markdown",
   "metadata": {},
   "source": [
    "### 실습 00. Load dataset"
   ]
  },
  {
   "cell_type": "markdown",
   "metadata": {},
   "source": [
    "과제를 수행하기 위해 과제파일과 함께 breast data, target을 다운받아 불러옵니다\n",
    "\n",
    "불러온 dataset은 Wisconsin에서 수집된 breast cancer dataset입니다\n",
    "\n",
    "target이 0인 경우 negative이고, 1인경우 positive를 의미합니다\n",
    "\n",
    "해당 데이터셋은 machine learning dataset repository중 하나인 UCI repository에 등록되어있습니다\n",
    "\n",
    "Raw dataset을 가공하여 csv로 저장하였기 때문에 pandas로 불러올 수 있습니다"
   ]
  },
  {
   "cell_type": "code",
   "execution_count": 1,
   "metadata": {},
   "outputs": [],
   "source": [
    "import pandas as pd\n",
    "import os "
   ]
  },
  {
   "cell_type": "code",
   "execution_count": 2,
   "metadata": {},
   "outputs": [],
   "source": [
    "data=pd.read_csv('breast-data.csv')\n",
    "target=pd.read_csv('breast-target.csv')"
   ]
  },
  {
   "cell_type": "markdown",
   "metadata": {},
   "source": [
    "### 실습 01. Pandas & numpy 사용하기"
   ]
  },
  {
   "cell_type": "markdown",
   "metadata": {},
   "source": [
    "데이터들을 불러오고 형태를 확인해주세요\n",
    "\n",
    "DataFrame.shape으로 확인할 수 있습니다\n",
    "\n",
    "이후, 변수의 갯수와 변수 별 평균, 표준편차를 출력해주세요\n",
    "\n",
    "출력 양식은 자유롭게 작성하시되, 반드시 위의 요구사항을 만족하여야합니다"
   ]
  },
  {
   "cell_type": "code",
   "execution_count": 3,
   "metadata": {},
   "outputs": [
    {
     "data": {
      "text/plain": [
       "((683, 9), (683, 1))"
      ]
     },
     "execution_count": 3,
     "metadata": {},
     "output_type": "execute_result"
    }
   ],
   "source": [
    "data.shape, target.shape"
   ]
  },
  {
   "cell_type": "code",
   "execution_count": 4,
   "metadata": {},
   "outputs": [
    {
     "data": {
      "text/plain": [
       "683"
      ]
     },
     "execution_count": 4,
     "metadata": {},
     "output_type": "execute_result"
    }
   ],
   "source": [
    "# 변수의 개수\n",
    "data.shape[0]"
   ]
  },
  {
   "cell_type": "code",
   "execution_count": 5,
   "metadata": {},
   "outputs": [
    {
     "data": {
      "text/plain": [
       "0      1.777778\n",
       "1      4.555556\n",
       "2      1.666667\n",
       "3      4.555556\n",
       "4      1.888889\n",
       "         ...   \n",
       "678    1.555556\n",
       "679    1.222222\n",
       "680    6.444444\n",
       "681    5.111111\n",
       "682    5.444444\n",
       "Length: 683, dtype: float64"
      ]
     },
     "execution_count": 5,
     "metadata": {},
     "output_type": "execute_result"
    }
   ],
   "source": [
    "# 변수 별 평균\n",
    "data.mean(axis=1) "
   ]
  },
  {
   "cell_type": "code",
   "execution_count": 6,
   "metadata": {},
   "outputs": [
    {
     "data": {
      "text/plain": [
       "0       1.944444\n",
       "1       7.277778\n",
       "2       0.750000\n",
       "3       7.777778\n",
       "4       1.361111\n",
       "         ...    \n",
       "678     0.777778\n",
       "679     0.194444\n",
       "680    10.777778\n",
       "681     7.361111\n",
       "682     7.527778\n",
       "Length: 683, dtype: float64"
      ]
     },
     "execution_count": 6,
     "metadata": {},
     "output_type": "execute_result"
    }
   ],
   "source": [
    "# 변수 펼 표준편차\n",
    "data.var(axis=1)"
   ]
  },
  {
   "cell_type": "markdown",
   "metadata": {},
   "source": [
    "### 실습 02. Gaussian Naive Bayes Classifier"
   ]
  },
  {
   "cell_type": "markdown",
   "metadata": {},
   "source": [
    "Scikit-learn package의 classifier를 불러오겠습니다"
   ]
  },
  {
   "cell_type": "code",
   "execution_count": 41,
   "metadata": {},
   "outputs": [],
   "source": [
    "from sklearn.naive_bayes import GaussianNB"
   ]
  },
  {
   "cell_type": "markdown",
   "metadata": {},
   "source": [
    "불러온 class를 적절한 오브젝트에 저장하고, breast data의 prior를 계산하여 입력해주세요\n",
    "\n",
    "그리고 학습된 모델의 정확도를 출력해주세요"
   ]
  },
  {
   "cell_type": "code",
   "execution_count": 45,
   "metadata": {},
   "outputs": [
    {
     "name": "stdout",
     "output_type": "stream",
     "text": [
      "10    444\n",
      "dtype: int64\n",
      "10    239\n",
      "dtype: int64\n",
      "10    683\n",
      "dtype: int64\n"
     ]
    }
   ],
   "source": [
    "#prior 계산하기 위한 부분\n",
    "print(target[target['10']== 0].count())\n",
    "print(target[target['10']== 1].count())\n",
    "print(target.count())\n",
    "\n",
    "# P(0) = 444/683 P(1) = 239/683"
   ]
  },
  {
   "cell_type": "code",
   "execution_count": 78,
   "metadata": {
    "scrolled": true
   },
   "outputs": [
    {
     "name": "stderr",
     "output_type": "stream",
     "text": [
      "C:\\Users\\micke\\Anaconda3\\lib\\site-packages\\sklearn\\utils\\validation.py:724: DataConversionWarning: A column-vector y was passed when a 1d array was expected. Please change the shape of y to (n_samples, ), for example using ravel().\n",
      "  y = column_or_1d(y, warn=True)\n"
     ]
    },
    {
     "data": {
      "text/plain": [
       "GaussianNB(priors=[0.65, 0.35], var_smoothing=1e-09)"
      ]
     },
     "execution_count": 78,
     "metadata": {},
     "output_type": "execute_result"
    }
   ],
   "source": [
    "model = GaussianNB(priors=[0.65,0.35])\n",
    "model.fit(data,target)"
   ]
  },
  {
   "cell_type": "code",
   "execution_count": 79,
   "metadata": {},
   "outputs": [
    {
     "name": "stdout",
     "output_type": "stream",
     "text": [
      "정확도 : 0.9633967789165446\n"
     ]
    }
   ],
   "source": [
    "count = 0\n",
    "for i in range(0,len(target.values)):\n",
    "    if target.values[i][0] == model.predict(data)[i]:\n",
    "        count += 1\n",
    "    else :\n",
    "        continue\n",
    "acc = (count/len(target.values))\n",
    "print(\"정확도 :\",acc)\n"
   ]
  },
  {
   "cell_type": "code",
   "execution_count": 80,
   "metadata": {},
   "outputs": [
    {
     "name": "stdout",
     "output_type": "stream",
     "text": [
      "정확도 : 0.9633967789165446\n"
     ]
    }
   ],
   "source": [
    "from sklearn.metrics import accuracy_score\n",
    "\n",
    "acc_2 = accuracy_score(target.values,model.predict(data))\n",
    "print(\"정확도 :\",acc_2)"
   ]
  },
  {
   "cell_type": "markdown",
   "metadata": {},
   "source": [
    "### 실습 03. Prior 조절 및 결과 비교하기"
   ]
  },
  {
   "cell_type": "code",
   "execution_count": 85,
   "metadata": {},
   "outputs": [
    {
     "name": "stderr",
     "output_type": "stream",
     "text": [
      "C:\\Users\\micke\\Anaconda3\\lib\\site-packages\\sklearn\\utils\\validation.py:724: DataConversionWarning: A column-vector y was passed when a 1d array was expected. Please change the shape of y to (n_samples, ), for example using ravel().\n",
      "  y = column_or_1d(y, warn=True)\n"
     ]
    },
    {
     "data": {
      "text/plain": [
       "GaussianNB(priors=[0.5, 0.5], var_smoothing=1e-09)"
      ]
     },
     "execution_count": 85,
     "metadata": {},
     "output_type": "execute_result"
    }
   ],
   "source": [
    "model1 = GaussianNB(priors=[0.5,0.5])\n",
    "model1.fit(data,target)"
   ]
  },
  {
   "cell_type": "code",
   "execution_count": 89,
   "metadata": {},
   "outputs": [
    {
     "name": "stdout",
     "output_type": "stream",
     "text": [
      "정확도 : 0.9633967789165446\n"
     ]
    }
   ],
   "source": [
    "acc_3 = accuracy_score(target.values, model1.predict(data))\n",
    "print(\"정확도 :\",acc_3)"
   ]
  },
  {
   "cell_type": "markdown",
   "metadata": {},
   "source": [
    "실습 2에서 확인한 것과 같이 breast cancer dataset의 prior 비율은 1:1이 아닙니다\n",
    "\n",
    "prior를 1:1로 조절한 후 조절하기 전과 비교해주세요\n",
    "\n"
   ]
  },
  {
   "cell_type": "markdown",
   "metadata": {},
   "source": [
    "위과 같이 prior에 따라 결과를 얻게된 이유를 **마크다운**으로 아래 서술해주세요\n",
    "\n",
    "본인의 생각을 자유롭게 작성해주시면 됩니다\n",
    "\n",
    "아래쪽에 cell을 추가하는 방법은 이 cell의 왼쪽 여백을 클릭하여 파란색 테두리로 강조되는 것을 확인한 후, \n",
    "\n",
    "b키를 누르면 아래쪽에 cell이 생성됩니다\n",
    "\n",
    "아래쪽 cell의 왼쪽 여백을 클릭하여 파란색 테두리 상태일 때 m키를 누르면 markdown으로 작성할 수 있습니다"
   ]
  },
  {
   "cell_type": "markdown",
   "metadata": {},
   "source": []
  },
  {
   "cell_type": "markdown",
   "metadata": {},
   "source": [
    "정확도가 왜 동일하게 나온지는 모르겠지만....\n",
    "0.65: 0.35 일경우 융통성 있게 예측하는 반면\n",
    "하지만 prior 비율을 1:1 로 바꾸게 되면\n",
    "경계선인 decision boundary을 중심으로 0,1을 구분하게 됨으로 차이가 나게된다"
   ]
  }
 ],
 "metadata": {
  "kernelspec": {
   "display_name": "Python 3",
   "language": "python",
   "name": "python3"
  },
  "language_info": {
   "codemirror_mode": {
    "name": "ipython",
    "version": 3
   },
   "file_extension": ".py",
   "mimetype": "text/x-python",
   "name": "python",
   "nbconvert_exporter": "python",
   "pygments_lexer": "ipython3",
   "version": "3.7.4"
  }
 },
 "nbformat": 4,
 "nbformat_minor": 4
}
